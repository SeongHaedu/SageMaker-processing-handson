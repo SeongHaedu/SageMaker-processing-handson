{
 "cells": [
  {
   "cell_type": "markdown",
   "id": "2c52ebc6-3fd4-4d8a-964f-8133f524831e",
   "metadata": {},
   "source": [
    "# SageMaker Processing Job hands-on🦉"
   ]
  },
  {
   "cell_type": "markdown",
   "id": "c36d331e-2f7e-45be-a08a-707618292545",
   "metadata": {},
   "source": [
    "## A whole image of SageMaker Processing Job"
   ]
  },
  {
   "cell_type": "markdown",
   "id": "94b8c0fe-189b-4080-8172-fb9977f5e4cf",
   "metadata": {},
   "source": [
    "![overview-preparing](./images/overview-preparing.png)\n",
    "\n",
    "1. Download data.\n",
    "2. Compress data as Zip format.\n",
    "3. Upload a Zip file to S3."
   ]
  },
  {
   "cell_type": "markdown",
   "id": "ce720345-74ee-40d7-bf6c-f06aff113acd",
   "metadata": {},
   "source": [
    "![overview-processing](./images/overview-processing.png)\n",
    "\n",
    "1. Build a image for preprocessing.\n",
    "2. Push the image.\n",
    "3. Execute APIs for preprocessing.\n",
    "4. Pull the image.\n",
    "5. Download a Zip file.\n",
    "6. Run a processing instance.\n",
    "7. Upload preprocessed data.\n",
    "8. Delete the processing instance."
   ]
  },
  {
   "cell_type": "markdown",
   "id": "0fd5ddc6-a0a1-448e-b6ad-6c00b1f8b71f",
   "metadata": {},
   "source": [
    "## SageMaker Processing Job hands-on"
   ]
  },
  {
   "cell_type": "code",
   "execution_count": null,
   "id": "83d6a863-df4c-40a2-8c99-292069f5d59a",
   "metadata": {},
   "outputs": [],
   "source": []
  },
  {
   "cell_type": "code",
   "execution_count": null,
   "id": "2ec512b6-3488-4fb3-924e-97319065a230",
   "metadata": {},
   "outputs": [],
   "source": []
  },
  {
   "cell_type": "code",
   "execution_count": null,
   "id": "fc3bef08-8a85-4aef-801a-4592beaaf345",
   "metadata": {},
   "outputs": [],
   "source": []
  },
  {
   "cell_type": "code",
   "execution_count": null,
   "id": "a8652e19-2a19-4e7e-9bb7-3f8b8ce693b1",
   "metadata": {},
   "outputs": [],
   "source": []
  },
  {
   "cell_type": "code",
   "execution_count": null,
   "id": "704ac878-6e88-4fbb-a8a7-4a8c3c4ed470",
   "metadata": {},
   "outputs": [],
   "source": []
  },
  {
   "cell_type": "code",
   "execution_count": null,
   "id": "399547ca-420d-449a-9ea3-a9753c0feae1",
   "metadata": {},
   "outputs": [],
   "source": []
  },
  {
   "cell_type": "code",
   "execution_count": null,
   "id": "f9c00b02-5b9a-4fe2-9982-6f891ed881ae",
   "metadata": {},
   "outputs": [],
   "source": []
  },
  {
   "cell_type": "code",
   "execution_count": null,
   "id": "cd1e8cec-0267-4b57-8c7c-07517c97050f",
   "metadata": {},
   "outputs": [],
   "source": []
  },
  {
   "cell_type": "code",
   "execution_count": null,
   "id": "4862a41c-ed97-4255-b0e0-7878e6ac9b10",
   "metadata": {},
   "outputs": [],
   "source": []
  },
  {
   "cell_type": "code",
   "execution_count": null,
   "id": "56be2677-76ef-4dc7-a5be-6f519e33bebf",
   "metadata": {},
   "outputs": [],
   "source": []
  },
  {
   "cell_type": "code",
   "execution_count": null,
   "id": "20ad04d1-752f-4353-be75-dd563ea99bae",
   "metadata": {},
   "outputs": [],
   "source": []
  },
  {
   "cell_type": "code",
   "execution_count": null,
   "id": "6a75487e-dec7-4cf7-b3b2-db7fc267a111",
   "metadata": {},
   "outputs": [],
   "source": []
  },
  {
   "cell_type": "code",
   "execution_count": null,
   "id": "7acd5408-15b4-4a33-bc41-90ffffa03cf9",
   "metadata": {},
   "outputs": [],
   "source": []
  },
  {
   "cell_type": "code",
   "execution_count": null,
   "id": "3412043e-3a11-4f57-b67a-28fc31c96427",
   "metadata": {},
   "outputs": [],
   "source": []
  },
  {
   "cell_type": "code",
   "execution_count": null,
   "id": "ee069c71-113f-42e9-a969-4843f8c091dc",
   "metadata": {},
   "outputs": [],
   "source": []
  },
  {
   "cell_type": "code",
   "execution_count": null,
   "id": "90bc7b2d-357f-4245-b11b-feca2e6d605b",
   "metadata": {},
   "outputs": [],
   "source": []
  },
  {
   "cell_type": "code",
   "execution_count": null,
   "id": "56e17f34-1cb6-46c8-b026-a8fb237ef765",
   "metadata": {},
   "outputs": [],
   "source": []
  },
  {
   "cell_type": "code",
   "execution_count": null,
   "id": "4f5e889f-cd88-4f90-a923-c46130fd5321",
   "metadata": {},
   "outputs": [],
   "source": []
  },
  {
   "cell_type": "code",
   "execution_count": null,
   "id": "5a1fad1c-31ad-46d0-9941-aa7a698adc90",
   "metadata": {},
   "outputs": [],
   "source": []
  },
  {
   "cell_type": "code",
   "execution_count": null,
   "id": "ee28d322-0406-45b5-9b7c-5899f4f8a63e",
   "metadata": {},
   "outputs": [],
   "source": []
  },
  {
   "cell_type": "code",
   "execution_count": null,
   "id": "95293ddf-a6e0-4692-94e1-9c8ecb28c423",
   "metadata": {},
   "outputs": [],
   "source": []
  }
 ],
 "metadata": {
  "kernelspec": {
   "display_name": "conda_python3",
   "language": "python",
   "name": "conda_python3"
  },
  "language_info": {
   "codemirror_mode": {
    "name": "ipython",
    "version": 3
   },
   "file_extension": ".py",
   "mimetype": "text/x-python",
   "name": "python",
   "nbconvert_exporter": "python",
   "pygments_lexer": "ipython3",
   "version": "3.10.13"
  }
 },
 "nbformat": 4,
 "nbformat_minor": 5
}
